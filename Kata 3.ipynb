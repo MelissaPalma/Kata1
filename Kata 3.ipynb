{
 "cells": [
  {
   "cell_type": "code",
   "execution_count": 1,
   "metadata": {},
   "outputs": [
    {
     "name": "stdout",
     "output_type": "stream",
     "text": [
      "Un asteroide está cerca a una velocidad peligrosa!!!\n"
     ]
    }
   ],
   "source": [
    "asteroide = 49\n",
    "if asteroide > 25:\n",
    "    print('Un asteroide está cerca a una velocidad peligrosa!!!')\n",
    "else:\n",
    "    print('Falsa alarma')"
   ]
  },
  {
   "cell_type": "code",
   "execution_count": 2,
   "metadata": {},
   "outputs": [
    {
     "name": "stdout",
     "output_type": "stream",
     "text": [
      "No hay nada\n"
     ]
    }
   ],
   "source": [
    "Asteroide=19\n",
    "if Asteroide > 20:\n",
    "  print('Mira al cielo, hay un asteroide!!!')\n",
    "elif Asteroide ==20:\n",
    "  print('Mira al cielo, hay un asteroide!!!')\n",
    "else:\n",
    "  print('No hay nada')"
   ]
  },
  {
   "cell_type": "code",
   "execution_count": 3,
   "metadata": {},
   "outputs": [
    {
     "name": "stdout",
     "output_type": "stream",
     "text": [
      "Un asteroide está cerca, PELIGRO!!!!!\n"
     ]
    }
   ],
   "source": [
    "tamaño = 55\n",
    "velocidad = 32\n",
    "if tamaño > 25 and velocidad > 25:\n",
    "  print ('Un asteroide está cerca, PELIGRO!!!!!')\n",
    "elif velocidad >= 20:\n",
    "  print('Mira al cielo, hay un asteroide!!!')\n",
    "elif tamaño < 25:\n",
    "  print('Nada que ver, falsa alarma')\n",
    "else:\n",
    "  print('Nada que ver, falsa alarma')"
   ]
  }
 ],
 "metadata": {
  "interpreter": {
   "hash": "70c321cc7b94c31b877945656284bafe04a41600220a75ffc4565a80bb3b314b"
  },
  "kernelspec": {
   "display_name": "Python 3.10.2 64-bit",
   "language": "python",
   "name": "python3"
  },
  "language_info": {
   "codemirror_mode": {
    "name": "ipython",
    "version": 3
   },
   "file_extension": ".py",
   "mimetype": "text/x-python",
   "name": "python",
   "nbconvert_exporter": "python",
   "pygments_lexer": "ipython3",
   "version": "3.10.2"
  },
  "orig_nbformat": 4
 },
 "nbformat": 4,
 "nbformat_minor": 2
}
