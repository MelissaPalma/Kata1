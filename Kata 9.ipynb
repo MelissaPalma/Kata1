{
 "cells": [
  {
   "cell_type": "markdown",
   "metadata": {},
   "source": [
    "EJERCICIO 1"
   ]
  },
  {
   "cell_type": "code",
   "execution_count": 5,
   "metadata": {},
   "outputs": [],
   "source": [
    "def reporte (tanque_ext,tanque_int,tanque_prin):\n",
    "    total = (tanque_ext + tanque_int + tanque_prin) / 3\n",
    "    return f'''Reporte de gas:\n",
    "    Tanque externo: {tanque_ext}%\n",
    "    Tanque interno: {tanque_int}%\n",
    "    Tanque principal: {tanque_prin}%\n",
    "    Promedio general: {total}%\n",
    "    '''"
   ]
  },
  {
   "cell_type": "code",
   "execution_count": null,
   "metadata": {},
   "outputs": [],
   "source": [
    "print (reporte(46,78,69))"
   ]
  },
  {
   "cell_type": "code",
   "execution_count": 12,
   "metadata": {},
   "outputs": [
    {
     "data": {
      "text/plain": [
       "72.0"
      ]
     },
     "execution_count": 12,
     "metadata": {},
     "output_type": "execute_result"
    }
   ],
   "source": [
    "def promedio(valores):\n",
    "    tot = sum(valores)\n",
    "    cantidad = len(valores)\n",
    "    return tot/cantidad\n",
    "\n",
    "promedio([80,85,51])"
   ]
  },
  {
   "cell_type": "code",
   "execution_count": 14,
   "metadata": {},
   "outputs": [],
   "source": [
    "def reporte (tanque_ext,tanque_int,tanque_prin):\n",
    "    total = (tanque_ext + tanque_int + tanque_prin) / 3\n",
    "    return f'''Reporte de gas:\n",
    "    Promedio general: {promedio([tanque_ext],[tanque_int],[tanque_prin])}%\n",
    "    Tanque externo: {tanque_ext}%\n",
    "    Tanque interno: {tanque_int}%\n",
    "    Tanque principal: {tanque_prin}%\n",
    "    '''"
   ]
  },
  {
   "cell_type": "markdown",
   "metadata": {},
   "source": [
    "EJERCICIO 2"
   ]
  },
  {
   "cell_type": "code",
   "execution_count": null,
   "metadata": {},
   "outputs": [],
   "source": [
    "def Reporte(prelanzamiento, vuelo, destino, tanque_exte, tanque_pri):\n",
    "    return f\"\"\"\n",
    "    Misión a {destino}\n",
    "    Tiempo de vuelo total: {prelanzamiento + vuelo} minutes\n",
    "    Combustible restante: {tanque_exte + tanque_pri} gallons\n",
    "    \"\"\"\n",
    "\n",
    "print(Reporte(20, 63, \"Luna\", 200000, 300000))"
   ]
  },
  {
   "cell_type": "code",
   "execution_count": null,
   "metadata": {},
   "outputs": [],
   "source": [
    "def Reporte(destino, *minutos, **reserva):\n",
    "    return f\"\"\"\n",
    "    Misión a {destino}\n",
    "    Tiempo de vuelo total: {sum(minutos)} minutos\n",
    "    Combustible restante: {sum(reserva.values())}\n",
    "    \"\"\"\n",
    "\n",
    "print(Reporte(\"Luna\", 10, 15, 51, principal=300000, externo=200000))"
   ]
  },
  {
   "cell_type": "code",
   "execution_count": null,
   "metadata": {},
   "outputs": [],
   "source": [
    "def Reporte(destino, *minutos, **reserva):\n",
    "    principa = f\"\"\"\n",
    "    Misión a {destino}\n",
    "    Tiempo de vuelo total: {sum(minutos)} minutos\n",
    "    Combustible restante: {sum(reserva.values())}\n",
    "    \"\"\"\n",
    "    for tanque, galones in reserva.items():\n",
    "        principa += f\"{tanque} tanque --> {galones} galones sobrantes\\n\"\n",
    "    return principa\n",
    "\n",
    "print(Reporte(\"Luna\", 8, 11, 55, principal=300000, externo=200000))"
   ]
  }
 ],
 "metadata": {
  "interpreter": {
   "hash": "70c321cc7b94c31b877945656284bafe04a41600220a75ffc4565a80bb3b314b"
  },
  "kernelspec": {
   "display_name": "Python 3.10.2 64-bit",
   "language": "python",
   "name": "python3"
  },
  "language_info": {
   "codemirror_mode": {
    "name": "ipython",
    "version": 3
   },
   "file_extension": ".py",
   "mimetype": "text/x-python",
   "name": "python",
   "nbconvert_exporter": "python",
   "pygments_lexer": "ipython3",
   "version": "3.10.2"
  },
  "orig_nbformat": 4
 },
 "nbformat": 4,
 "nbformat_minor": 2
}
