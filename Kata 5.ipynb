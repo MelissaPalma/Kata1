{
 "cells": [
  {
   "cell_type": "markdown",
   "metadata": {},
   "source": [
    "EJERCICIO 1."
   ]
  },
  {
   "cell_type": "code",
   "execution_count": 2,
   "metadata": {},
   "outputs": [],
   "source": [
    "Tierra = 149597870 \n",
    "Jupiter = 778547200 "
   ]
  },
  {
   "cell_type": "code",
   "execution_count": 7,
   "metadata": {},
   "outputs": [
    {
     "name": "stdout",
     "output_type": "stream",
     "text": [
      "628949330\n",
      "390577533.93\n"
     ]
    }
   ],
   "source": [
    "Distancia = (Jupiter - Tierra)\n",
    "print (Distancia)\n",
    "\n",
    "Millas = Distancia * 0.621\n",
    "print (Millas)"
   ]
  },
  {
   "cell_type": "markdown",
   "metadata": {},
   "source": [
    "EJERCICIO 2"
   ]
  },
  {
   "cell_type": "code",
   "execution_count": 21,
   "metadata": {},
   "outputs": [],
   "source": [
    "PlanetaA = input ('Ingresa la distancia del Sol al planeta A en km: ')\n",
    "PlanetaB = input ('Ingresa la distancia del Sol al planeta B en km: ')"
   ]
  },
  {
   "cell_type": "code",
   "execution_count": 22,
   "metadata": {},
   "outputs": [],
   "source": [
    "PlanetaA = int (PlanetaA)\n",
    "PlanetaB = int (PlanetaB)"
   ]
  },
  {
   "cell_type": "code",
   "execution_count": null,
   "metadata": {},
   "outputs": [],
   "source": [
    "Distanciaa = PlanetaB -PlanetaA\n",
    "print (Distanciaa)\n",
    "Miles = Distanciaa * 0.621\n",
    "print (abs (Miles))"
   ]
  }
 ],
 "metadata": {
  "interpreter": {
   "hash": "70c321cc7b94c31b877945656284bafe04a41600220a75ffc4565a80bb3b314b"
  },
  "kernelspec": {
   "display_name": "Python 3.10.2 64-bit",
   "language": "python",
   "name": "python3"
  },
  "language_info": {
   "codemirror_mode": {
    "name": "ipython",
    "version": 3
   },
   "file_extension": ".py",
   "mimetype": "text/x-python",
   "name": "python",
   "nbconvert_exporter": "python",
   "pygments_lexer": "ipython3",
   "version": "3.10.2"
  },
  "orig_nbformat": 4
 },
 "nbformat": 4,
 "nbformat_minor": 2
}
